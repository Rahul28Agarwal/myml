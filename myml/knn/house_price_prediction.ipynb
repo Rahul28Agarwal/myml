{
 "cells": [
  {
   "cell_type": "code",
   "execution_count": 16,
   "metadata": {},
   "outputs": [
    {
     "name": "stderr",
     "output_type": "stream",
     "text": [
      "Python-dotenv could not parse statement starting at line 1\n"
     ]
    }
   ],
   "source": [
    "import numpy as np\n",
    "import pandas as pd\n",
    "import matplotlib.pyplot as plt\n",
    "import seaborn as sns\n",
    "\n",
    "import os\n",
    "import sys\n",
    "\n",
    "from dotenv import find_dotenv, load_dotenv\n",
    "\n",
    "\n",
    "def load_environment_variables():\n",
    "    # Find the .env file\n",
    "    dotenv_path = find_dotenv()\n",
    "    if not dotenv_path:\n",
    "        raise FileNotFoundError(\"Could not find .env file\")\n",
    "\n",
    "    # Load the environment variable from the .env file\n",
    "    load_dotenv(dotenv_path)\n",
    "\n",
    "    # Set the working directory to the project root\n",
    "    project_root = os.path.dirname(dotenv_path)\n",
    "    os.chdir(project_root)\n",
    "\n",
    "    # Add the project root to sys.path\n",
    "    if project_root not in sys.path:\n",
    "        sys.path.append(project_root)\n",
    "\n",
    "load_environment_variables()"
   ]
  },
  {
   "cell_type": "code",
   "execution_count": 17,
   "metadata": {},
   "outputs": [],
   "source": [
    "from sklearn import datasets\n",
    "diabetes = datasets.load_diabetes(as_frame=True)\n",
    "data = diabetes[\"data\"]\n"
   ]
  },
  {
   "cell_type": "markdown",
   "metadata": {},
   "source": [
    "# KNN Regressor"
   ]
  },
  {
   "cell_type": "code",
   "execution_count": 18,
   "metadata": {},
   "outputs": [],
   "source": [
    "from sklearn.model_selection import train_test_split\n",
    "X_train, X_test, y_train, y_test = train_test_split(data, diabetes.target, test_size=0.2, random_state=42)"
   ]
  },
  {
   "cell_type": "code",
   "execution_count": 19,
   "metadata": {},
   "outputs": [],
   "source": [
    "from myml.knn.k_neighbors_regressor import KNeighborsRegressor\n",
    "knn = KNeighborsRegressor(k=6)\n",
    "knn.fit(X_train, y_train)\n",
    "pred = knn.predict(X_test)"
   ]
  },
  {
   "cell_type": "code",
   "execution_count": 20,
   "metadata": {},
   "outputs": [
    {
     "data": {
      "text/plain": [
       "np.float64(0.4426043044910202)"
      ]
     },
     "execution_count": 20,
     "metadata": {},
     "output_type": "execute_result"
    }
   ],
   "source": [
    "knn.score(X_test, y_test)"
   ]
  },
  {
   "cell_type": "code",
   "execution_count": 21,
   "metadata": {},
   "outputs": [
    {
     "data": {
      "application/vnd.microsoft.datawrangler.viewer.v0+json": {
       "columns": [
        {
         "name": "index",
         "rawType": "int64",
         "type": "integer"
        },
        {
         "name": "0",
         "rawType": "float64",
         "type": "float"
        },
        {
         "name": "1",
         "rawType": "float64",
         "type": "float"
        },
        {
         "name": "2",
         "rawType": "float64",
         "type": "float"
        },
        {
         "name": "3",
         "rawType": "float64",
         "type": "float"
        },
        {
         "name": "4",
         "rawType": "float64",
         "type": "float"
        },
        {
         "name": "5",
         "rawType": "float64",
         "type": "float"
        },
        {
         "name": "6",
         "rawType": "float64",
         "type": "float"
        },
        {
         "name": "7",
         "rawType": "float64",
         "type": "float"
        },
        {
         "name": "8",
         "rawType": "float64",
         "type": "float"
        },
        {
         "name": "9",
         "rawType": "float64",
         "type": "float"
        },
        {
         "name": "10",
         "rawType": "float64",
         "type": "float"
        },
        {
         "name": "11",
         "rawType": "float64",
         "type": "float"
        },
        {
         "name": "12",
         "rawType": "float64",
         "type": "float"
        },
        {
         "name": "13",
         "rawType": "float64",
         "type": "float"
        },
        {
         "name": "14",
         "rawType": "float64",
         "type": "float"
        },
        {
         "name": "15",
         "rawType": "float64",
         "type": "float"
        },
        {
         "name": "16",
         "rawType": "float64",
         "type": "float"
        },
        {
         "name": "17",
         "rawType": "float64",
         "type": "float"
        },
        {
         "name": "18",
         "rawType": "float64",
         "type": "float"
        },
        {
         "name": "19",
         "rawType": "float64",
         "type": "float"
        },
        {
         "name": "20",
         "rawType": "float64",
         "type": "float"
        },
        {
         "name": "21",
         "rawType": "float64",
         "type": "float"
        },
        {
         "name": "22",
         "rawType": "float64",
         "type": "float"
        },
        {
         "name": "23",
         "rawType": "float64",
         "type": "float"
        },
        {
         "name": "24",
         "rawType": "float64",
         "type": "float"
        },
        {
         "name": "25",
         "rawType": "float64",
         "type": "float"
        },
        {
         "name": "26",
         "rawType": "float64",
         "type": "float"
        },
        {
         "name": "27",
         "rawType": "float64",
         "type": "float"
        },
        {
         "name": "28",
         "rawType": "float64",
         "type": "float"
        },
        {
         "name": "29",
         "rawType": "float64",
         "type": "float"
        },
        {
         "name": "30",
         "rawType": "float64",
         "type": "float"
        },
        {
         "name": "31",
         "rawType": "float64",
         "type": "float"
        },
        {
         "name": "32",
         "rawType": "float64",
         "type": "float"
        },
        {
         "name": "33",
         "rawType": "float64",
         "type": "float"
        },
        {
         "name": "34",
         "rawType": "float64",
         "type": "float"
        },
        {
         "name": "35",
         "rawType": "float64",
         "type": "float"
        },
        {
         "name": "36",
         "rawType": "float64",
         "type": "float"
        },
        {
         "name": "37",
         "rawType": "float64",
         "type": "float"
        },
        {
         "name": "38",
         "rawType": "float64",
         "type": "float"
        },
        {
         "name": "39",
         "rawType": "float64",
         "type": "float"
        },
        {
         "name": "40",
         "rawType": "float64",
         "type": "float"
        },
        {
         "name": "41",
         "rawType": "float64",
         "type": "float"
        },
        {
         "name": "42",
         "rawType": "float64",
         "type": "float"
        },
        {
         "name": "43",
         "rawType": "float64",
         "type": "float"
        },
        {
         "name": "44",
         "rawType": "float64",
         "type": "float"
        },
        {
         "name": "45",
         "rawType": "float64",
         "type": "float"
        },
        {
         "name": "46",
         "rawType": "float64",
         "type": "float"
        },
        {
         "name": "47",
         "rawType": "float64",
         "type": "float"
        },
        {
         "name": "48",
         "rawType": "float64",
         "type": "float"
        },
        {
         "name": "49",
         "rawType": "float64",
         "type": "float"
        },
        {
         "name": "50",
         "rawType": "float64",
         "type": "float"
        },
        {
         "name": "51",
         "rawType": "float64",
         "type": "float"
        },
        {
         "name": "52",
         "rawType": "float64",
         "type": "float"
        },
        {
         "name": "53",
         "rawType": "float64",
         "type": "float"
        },
        {
         "name": "54",
         "rawType": "float64",
         "type": "float"
        },
        {
         "name": "55",
         "rawType": "float64",
         "type": "float"
        },
        {
         "name": "56",
         "rawType": "float64",
         "type": "float"
        },
        {
         "name": "57",
         "rawType": "float64",
         "type": "float"
        },
        {
         "name": "58",
         "rawType": "float64",
         "type": "float"
        },
        {
         "name": "59",
         "rawType": "float64",
         "type": "float"
        },
        {
         "name": "60",
         "rawType": "float64",
         "type": "float"
        },
        {
         "name": "61",
         "rawType": "float64",
         "type": "float"
        },
        {
         "name": "62",
         "rawType": "float64",
         "type": "float"
        },
        {
         "name": "63",
         "rawType": "float64",
         "type": "float"
        },
        {
         "name": "64",
         "rawType": "float64",
         "type": "float"
        },
        {
         "name": "65",
         "rawType": "float64",
         "type": "float"
        },
        {
         "name": "66",
         "rawType": "float64",
         "type": "float"
        },
        {
         "name": "67",
         "rawType": "float64",
         "type": "float"
        },
        {
         "name": "68",
         "rawType": "float64",
         "type": "float"
        },
        {
         "name": "69",
         "rawType": "float64",
         "type": "float"
        },
        {
         "name": "70",
         "rawType": "float64",
         "type": "float"
        },
        {
         "name": "71",
         "rawType": "float64",
         "type": "float"
        },
        {
         "name": "72",
         "rawType": "float64",
         "type": "float"
        },
        {
         "name": "73",
         "rawType": "float64",
         "type": "float"
        },
        {
         "name": "74",
         "rawType": "float64",
         "type": "float"
        },
        {
         "name": "75",
         "rawType": "float64",
         "type": "float"
        },
        {
         "name": "76",
         "rawType": "float64",
         "type": "float"
        },
        {
         "name": "77",
         "rawType": "float64",
         "type": "float"
        },
        {
         "name": "78",
         "rawType": "float64",
         "type": "float"
        },
        {
         "name": "79",
         "rawType": "float64",
         "type": "float"
        },
        {
         "name": "80",
         "rawType": "float64",
         "type": "float"
        },
        {
         "name": "81",
         "rawType": "float64",
         "type": "float"
        },
        {
         "name": "82",
         "rawType": "float64",
         "type": "float"
        },
        {
         "name": "83",
         "rawType": "float64",
         "type": "float"
        },
        {
         "name": "84",
         "rawType": "float64",
         "type": "float"
        },
        {
         "name": "85",
         "rawType": "float64",
         "type": "float"
        },
        {
         "name": "86",
         "rawType": "float64",
         "type": "float"
        },
        {
         "name": "87",
         "rawType": "float64",
         "type": "float"
        },
        {
         "name": "88",
         "rawType": "float64",
         "type": "float"
        }
       ],
       "conversionMethod": "pd.DataFrame",
       "ref": "1fbf9e10-6ad8-44b8-aba0-b93fac52c7a7",
       "rows": [
        [
         "0",
         "219.0",
         "70.0",
         "202.0",
         "230.0",
         "111.0",
         "84.0",
         "242.0",
         "272.0",
         "94.0",
         "96.0",
         "94.0",
         "252.0",
         "99.0",
         "297.0",
         "135.0",
         "67.0",
         "295.0",
         "264.0",
         "170.0",
         "275.0",
         "310.0",
         "64.0",
         "128.0",
         "232.0",
         "129.0",
         "118.0",
         "263.0",
         "77.0",
         "48.0",
         "107.0",
         "140.0",
         "113.0",
         "90.0",
         "164.0",
         "180.0",
         "233.0",
         "42.0",
         "84.0",
         "172.0",
         "63.0",
         "48.0",
         "108.0",
         "156.0",
         "168.0",
         "90.0",
         "52.0",
         "200.0",
         "87.0",
         "90.0",
         "258.0",
         "136.0",
         "158.0",
         "69.0",
         "72.0",
         "171.0",
         "95.0",
         "72.0",
         "151.0",
         "168.0",
         "60.0",
         "122.0",
         "52.0",
         "187.0",
         "102.0",
         "214.0",
         "248.0",
         "181.0",
         "110.0",
         "140.0",
         "202.0",
         "101.0",
         "222.0",
         "281.0",
         "61.0",
         "89.0",
         "91.0",
         "186.0",
         "220.0",
         "237.0",
         "233.0",
         "68.0",
         "190.0",
         "96.0",
         "72.0",
         "153.0",
         "98.0",
         "37.0",
         "63.0",
         "184.0"
        ],
        [
         "1",
         "126.0",
         "142.16666666666666",
         "171.16666666666666",
         "238.66666666666666",
         "144.0",
         "141.5",
         "258.6666666666667",
         "178.33333333333334",
         "105.66666666666667",
         "99.5",
         "96.5",
         "142.5",
         "96.5",
         "155.5",
         "93.16666666666667",
         "96.0",
         "240.33333333333334",
         "231.5",
         "165.83333333333334",
         "203.5",
         "178.33333333333334",
         "88.16666666666667",
         "104.83333333333333",
         "177.83333333333334",
         "141.0",
         "155.16666666666666",
         "217.33333333333334",
         "158.83333333333334",
         "68.83333333333333",
         "130.5",
         "140.83333333333334",
         "148.66666666666666",
         "90.33333333333333",
         "153.83333333333334",
         "161.83333333333334",
         "242.16666666666666",
         "80.0",
         "134.33333333333334",
         "167.0",
         "102.33333333333333",
         "84.83333333333333",
         "94.66666666666667",
         "125.66666666666667",
         "136.5",
         "172.16666666666666",
         "81.5",
         "93.66666666666667",
         "106.0",
         "86.33333333333333",
         "135.0",
         "108.33333333333333",
         "98.5",
         "158.5",
         "101.5",
         "217.16666666666666",
         "113.16666666666667",
         "84.66666666666667",
         "185.16666666666666",
         "104.5",
         "70.66666666666667",
         "154.33333333333334",
         "142.16666666666666",
         "55.5",
         "109.66666666666667",
         "157.33333333333334",
         "179.66666666666666",
         "201.66666666666666",
         "166.16666666666666",
         "143.33333333333334",
         "116.83333333333333",
         "126.16666666666667",
         "211.16666666666666",
         "190.33333333333334",
         "123.0",
         "111.66666666666667",
         "195.16666666666666",
         "155.83333333333334",
         "157.66666666666666",
         "205.0",
         "210.66666666666666",
         "142.83333333333334",
         "139.83333333333334",
         "67.66666666666667",
         "84.66666666666667",
         "112.5",
         "105.16666666666667",
         "102.16666666666667",
         "79.0",
         "161.33333333333334"
        ]
       ],
       "shape": {
        "columns": 89,
        "rows": 2
       }
      },
      "text/html": [
       "<div>\n",
       "<style scoped>\n",
       "    .dataframe tbody tr th:only-of-type {\n",
       "        vertical-align: middle;\n",
       "    }\n",
       "\n",
       "    .dataframe tbody tr th {\n",
       "        vertical-align: top;\n",
       "    }\n",
       "\n",
       "    .dataframe thead th {\n",
       "        text-align: right;\n",
       "    }\n",
       "</style>\n",
       "<table border=\"1\" class=\"dataframe\">\n",
       "  <thead>\n",
       "    <tr style=\"text-align: right;\">\n",
       "      <th></th>\n",
       "      <th>0</th>\n",
       "      <th>1</th>\n",
       "      <th>2</th>\n",
       "      <th>3</th>\n",
       "      <th>4</th>\n",
       "      <th>5</th>\n",
       "      <th>6</th>\n",
       "      <th>7</th>\n",
       "      <th>8</th>\n",
       "      <th>9</th>\n",
       "      <th>...</th>\n",
       "      <th>79</th>\n",
       "      <th>80</th>\n",
       "      <th>81</th>\n",
       "      <th>82</th>\n",
       "      <th>83</th>\n",
       "      <th>84</th>\n",
       "      <th>85</th>\n",
       "      <th>86</th>\n",
       "      <th>87</th>\n",
       "      <th>88</th>\n",
       "    </tr>\n",
       "  </thead>\n",
       "  <tbody>\n",
       "    <tr>\n",
       "      <th>0</th>\n",
       "      <td>219.0</td>\n",
       "      <td>70.000000</td>\n",
       "      <td>202.000000</td>\n",
       "      <td>230.000000</td>\n",
       "      <td>111.0</td>\n",
       "      <td>84.0</td>\n",
       "      <td>242.000000</td>\n",
       "      <td>272.000000</td>\n",
       "      <td>94.000000</td>\n",
       "      <td>96.0</td>\n",
       "      <td>...</td>\n",
       "      <td>233.000000</td>\n",
       "      <td>68.000000</td>\n",
       "      <td>190.000000</td>\n",
       "      <td>96.000000</td>\n",
       "      <td>72.000000</td>\n",
       "      <td>153.0</td>\n",
       "      <td>98.000000</td>\n",
       "      <td>37.000000</td>\n",
       "      <td>63.0</td>\n",
       "      <td>184.000000</td>\n",
       "    </tr>\n",
       "    <tr>\n",
       "      <th>1</th>\n",
       "      <td>126.0</td>\n",
       "      <td>142.166667</td>\n",
       "      <td>171.166667</td>\n",
       "      <td>238.666667</td>\n",
       "      <td>144.0</td>\n",
       "      <td>141.5</td>\n",
       "      <td>258.666667</td>\n",
       "      <td>178.333333</td>\n",
       "      <td>105.666667</td>\n",
       "      <td>99.5</td>\n",
       "      <td>...</td>\n",
       "      <td>210.666667</td>\n",
       "      <td>142.833333</td>\n",
       "      <td>139.833333</td>\n",
       "      <td>67.666667</td>\n",
       "      <td>84.666667</td>\n",
       "      <td>112.5</td>\n",
       "      <td>105.166667</td>\n",
       "      <td>102.166667</td>\n",
       "      <td>79.0</td>\n",
       "      <td>161.333333</td>\n",
       "    </tr>\n",
       "  </tbody>\n",
       "</table>\n",
       "<p>2 rows × 89 columns</p>\n",
       "</div>"
      ],
      "text/plain": [
       "      0           1           2           3      4      5           6   \\\n",
       "0  219.0   70.000000  202.000000  230.000000  111.0   84.0  242.000000   \n",
       "1  126.0  142.166667  171.166667  238.666667  144.0  141.5  258.666667   \n",
       "\n",
       "           7           8     9   ...          79          80          81  \\\n",
       "0  272.000000   94.000000  96.0  ...  233.000000   68.000000  190.000000   \n",
       "1  178.333333  105.666667  99.5  ...  210.666667  142.833333  139.833333   \n",
       "\n",
       "          82         83     84          85          86    87          88  \n",
       "0  96.000000  72.000000  153.0   98.000000   37.000000  63.0  184.000000  \n",
       "1  67.666667  84.666667  112.5  105.166667  102.166667  79.0  161.333333  \n",
       "\n",
       "[2 rows x 89 columns]"
      ]
     },
     "execution_count": 21,
     "metadata": {},
     "output_type": "execute_result"
    }
   ],
   "source": [
    "pd.DataFrame([np.array(y_test), pred])"
   ]
  }
 ],
 "metadata": {
  "kernelspec": {
   "display_name": "venv",
   "language": "python",
   "name": "python3"
  },
  "language_info": {
   "codemirror_mode": {
    "name": "ipython",
    "version": 3
   },
   "file_extension": ".py",
   "mimetype": "text/x-python",
   "name": "python",
   "nbconvert_exporter": "python",
   "pygments_lexer": "ipython3",
   "version": "3.12.7"
  }
 },
 "nbformat": 4,
 "nbformat_minor": 2
}
