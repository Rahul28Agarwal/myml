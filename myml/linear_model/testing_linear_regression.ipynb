{
 "cells": [
  {
   "cell_type": "code",
   "execution_count": 5,
   "metadata": {},
   "outputs": [
    {
     "name": "stderr",
     "output_type": "stream",
     "text": [
      "Python-dotenv could not parse statement starting at line 1\n"
     ]
    }
   ],
   "source": [
    "import pandas as pd\n",
    "import numpy as np\n",
    "import warnings\n",
    "\n",
    "warnings.simplefilter(action=\"ignore\", category=FutureWarning)\n",
    "\n",
    "# Define a custom formatt ing function\n",
    "def format_large_int(x):\n",
    "    if x == int(x):\n",
    "        return f\"{int(x):,}\"\n",
    "    return f\"{x:,.3f}\"\n",
    "\n",
    "# Set the display option to use the custom formatting function\n",
    "pd.options.display.float_format = format_large_int\n",
    "\n",
    "\n",
    "import os\n",
    "import sys\n",
    "\n",
    "from dotenv import find_dotenv, load_dotenv\n",
    "\n",
    "\n",
    "def load_environment_variables():\n",
    "    # Find the .env file\n",
    "    dotenv_path = find_dotenv()\n",
    "    if not dotenv_path:\n",
    "        raise FileNotFoundError(\"Could not find .env file\")\n",
    "\n",
    "    # Load the environment variable from the .env file\n",
    "    load_dotenv(dotenv_path)\n",
    "\n",
    "    # Set the working directory to the project root\n",
    "    project_root = os.path.dirname(dotenv_path)  # noqa: PTH120\n",
    "    os.chdir(project_root)\n",
    "\n",
    "    # Add the project root to sys.path\n",
    "    if project_root not in sys.path:\n",
    "        sys.path.append(project_root)\n",
    "\n",
    "load_environment_variables()"
   ]
  },
  {
   "cell_type": "code",
   "execution_count": null,
   "metadata": {},
   "outputs": [],
   "source": []
  },
  {
   "cell_type": "code",
   "execution_count": null,
   "metadata": {},
   "outputs": [],
   "source": []
  },
  {
   "cell_type": "code",
   "execution_count": null,
   "metadata": {},
   "outputs": [],
   "source": []
  },
  {
   "cell_type": "code",
   "execution_count": null,
   "metadata": {},
   "outputs": [],
   "source": []
  },
  {
   "cell_type": "code",
   "execution_count": null,
   "metadata": {},
   "outputs": [],
   "source": []
  }
 ],
 "metadata": {
  "kernelspec": {
   "display_name": "venv",
   "language": "python",
   "name": "python3"
  },
  "language_info": {
   "codemirror_mode": {
    "name": "ipython",
    "version": 3
   },
   "file_extension": ".py",
   "mimetype": "text/x-python",
   "name": "python",
   "nbconvert_exporter": "python",
   "pygments_lexer": "ipython3",
   "version": "3.12.7"
  }
 },
 "nbformat": 4,
 "nbformat_minor": 2
}
